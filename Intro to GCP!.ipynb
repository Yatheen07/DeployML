{
 "cells": [
  {
   "cell_type": "markdown",
   "metadata": {},
   "source": [
    "\n",
    "# Intro to Google Cloud Platform. This notebook illustrates using built-in machine learning models from GCP in 5 steps\n",
    "\n",
    "![title](memes/pwvcbb.jpg)"
   ]
  },
  {
   "cell_type": "markdown",
   "metadata": {},
   "source": [
    "# Pre-requisite: Install GCP for python using the following pip command\n",
    "\n",
    "* pip install google-cloud\n",
    "* pip install google-cloud-vision\n",
    "* pip install google-cloud-language"
   ]
  },
  {
   "cell_type": "markdown",
   "metadata": {},
   "source": [
    "## Example 1: Image Content Analysis\n",
    "\n",
    "* By using **Cloud Vision API** from GCP the content of the image is analysed"
   ]
  },
  {
   "cell_type": "code",
   "execution_count": null,
   "metadata": {},
   "outputs": [],
   "source": [
    "# Step 0: Import statements\n",
    "from google.cloud import vision\n",
    "from google.cloud.vision import types\n",
    "import io\n",
    "import os\n",
    "\"Packages Imported successfully\""
   ]
  },
  {
   "cell_type": "code",
   "execution_count": null,
   "metadata": {},
   "outputs": [],
   "source": [
    "# Step 1: Service-key Authentication\n",
    "os.environ[\"GOOGLE_APPLICATION_CREDENTIALS\"] = r\"C:/Users/kmy07/Desktop/ML/service-key.json\""
   ]
  },
  {
   "cell_type": "code",
   "execution_count": null,
   "metadata": {},
   "outputs": [],
   "source": [
    "# Step 2: Intialize Client Object to request service\n",
    "client_object = vision.ImageAnnotatorClient()"
   ]
  },
  {
   "cell_type": "code",
   "execution_count": null,
   "metadata": {},
   "outputs": [],
   "source": [
    "# Step 3: Read the Image\n",
    "imagePath = r\"C:\\Users\\kmy07\\Desktop\\ML\\InputImages\\leaves.jpg\"\n",
    "with io.open(imagePath, 'rb') as inputImage:\n",
    "    requestContent = inputImage.read()\n",
    "\n",
    "print(\"Input Image\\n\")\n",
    "\n",
    "from IPython.display import Image\n",
    "Image(imagePath,width = 300,height = 300)"
   ]
  },
  {
   "cell_type": "code",
   "execution_count": null,
   "metadata": {},
   "outputs": [],
   "source": [
    "#Step 4: Request-Reply Preparation\n",
    "\n",
    "#Prepare request\n",
    "request = types.Image(content = requestContent)\n",
    "\n",
    "#Perform service request and get Response\n",
    "response = client_object.label_detection(image=request)"
   ]
  },
  {
   "cell_type": "code",
   "execution_count": null,
   "metadata": {},
   "outputs": [],
   "source": [
    "#Step 5: Handle the response\n",
    "\n",
    "labels = response.label_annotations\n",
    "print('Labels:')\n",
    "for label in labels:\n",
    "    print(label.description)"
   ]
  },
  {
   "cell_type": "markdown",
   "metadata": {},
   "source": [
    "## Example 2: Sentiment Analysis\n",
    "\n",
    "* By using Cloud Natural Language API from GCP the sentiment of the statement is predicted\n"
   ]
  },
  {
   "cell_type": "code",
   "execution_count": null,
   "metadata": {},
   "outputs": [],
   "source": [
    "# Step 0: Import statements\n",
    "from google.cloud import language\n",
    "from google.cloud.language import enums\n",
    "from google.cloud.language import types\n",
    "\n",
    "\"Packages Imported successfully\""
   ]
  },
  {
   "cell_type": "code",
   "execution_count": null,
   "metadata": {},
   "outputs": [],
   "source": [
    "# Step 1: Service-key Authentication\n",
    "os.environ[\"GOOGLE_APPLICATION_CREDENTIALS\"] = r\"C:/Users/kmy07/Desktop/ML/service-key.json\""
   ]
  },
  {
   "cell_type": "code",
   "execution_count": null,
   "metadata": {},
   "outputs": [],
   "source": [
    "# Step 2: Intialize Client Object to request service\n",
    "client_object = language.LanguageServiceClient()"
   ]
  },
  {
   "cell_type": "code",
   "execution_count": null,
   "metadata": {},
   "outputs": [],
   "source": [
    "# Step 3: Read the input text\n",
    "inputText = u\"The Great Living Chola Temples were built by kings of the Chola Empire, which stretched over all of south India and the neighbouring islands. The site includes three great 11th- and 12th-century Temples: the Brihadisvara Temple at Thanjavur, the Brihadisvara Temple at Gangaikondacholisvaram and the Airavatesvara Temple at Darasuram. The Temple of Gangaikondacholisvaram, built by Rajendra I, was completed in 1035. Its 53-m vimana (sanctum tower) has recessed corners and a graceful upward curving movement, contrasting with the straight and severe tower at Thanjavur. The Airavatesvara temple complex, built by Rajaraja II, at Darasuram features a 24-m vimana and a stone image of Shiva. The temples testify to the brilliant achievements of the Chola in architecture, sculpture, painting and bronze casting.\"\n",
    "\n",
    "document = types.Document(\n",
    "    content=inputText,\n",
    "    type=enums.Document.Type.PLAIN_TEXT)\n"
   ]
  },
  {
   "cell_type": "code",
   "execution_count": null,
   "metadata": {
    "scrolled": true
   },
   "outputs": [],
   "source": [
    "# Step 4.1: \n",
    "\n",
    "# Detects the sentiment of the text\n",
    "sentiment = client_object.analyze_sentiment(document=document).document_sentiment\n",
    "\n",
    "print('Text: {}\\n'.format(inputText))\n",
    "print('Sentiment: {}'.format(sentiment.score))\n",
    "\n"
   ]
  },
  {
   "cell_type": "code",
   "execution_count": null,
   "metadata": {},
   "outputs": [],
   "source": [
    "# Step 4.2: \n",
    "# Analyse each entity\n",
    "entities = client_object.analyze_entities(document).entities\n",
    "\n",
    "for entity in entities:\n",
    "    entity_type = enums.Entity.Type(entity.type)\n",
    "    print('=' * 20)\n",
    "    print(u'{:<16}: {}'.format('name', entity.name))\n",
    "    print(u'{:<16}: {}'.format('type', entity_type.name))\n",
    "    print(u'{:<16}: {}'.format('salience', entity.salience))\n",
    "    print(u'{:<16}: {}'.format('wikipedia_url', entity.metadata.get('wikipedia_url', '-')))\n",
    "    print(u'{:<16}: {}'.format('mid', entity.metadata.get('mid', '-')))"
   ]
  },
  {
   "cell_type": "markdown",
   "metadata": {},
   "source": [
    "###  Reference: Sentiment Index as given by google\n",
    "![Sentiment Score](memes/sentimentScore.jpg)"
   ]
  },
  {
   "cell_type": "code",
   "execution_count": null,
   "metadata": {},
   "outputs": [],
   "source": []
  }
 ],
 "metadata": {
  "kernelspec": {
   "display_name": "Python 3",
   "language": "python",
   "name": "python3"
  },
  "language_info": {
   "codemirror_mode": {
    "name": "ipython",
    "version": 3
   },
   "file_extension": ".py",
   "mimetype": "text/x-python",
   "name": "python",
   "nbconvert_exporter": "python",
   "pygments_lexer": "ipython3",
   "version": "3.6.5"
  }
 },
 "nbformat": 4,
 "nbformat_minor": 2
}
